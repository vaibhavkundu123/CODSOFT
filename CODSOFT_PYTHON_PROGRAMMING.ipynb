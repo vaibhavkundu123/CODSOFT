{
  "nbformat": 4,
  "nbformat_minor": 0,
  "metadata": {
    "colab": {
      "provenance": [],
      "authorship_tag": "ABX9TyPezSwqOJncbNL4cEke35Ez",
      "include_colab_link": true
    },
    "kernelspec": {
      "name": "python3",
      "display_name": "Python 3"
    },
    "language_info": {
      "name": "python"
    }
  },
  "cells": [
    {
      "cell_type": "markdown",
      "metadata": {
        "id": "view-in-github",
        "colab_type": "text"
      },
      "source": [
        "<a href=\"https://colab.research.google.com/github/vaibhavkundu123/CODSOFT/blob/main/CODSOFT_PYTHON_PROGRAMMING.ipynb\" target=\"_parent\"><img src=\"https://colab.research.google.com/assets/colab-badge.svg\" alt=\"Open In Colab\"/></a>"
      ]
    },
    {
      "cell_type": "markdown",
      "source": [
        "TO-DO LIST\n"
      ],
      "metadata": {
        "id": "R-ScDwij-gGY"
      }
    },
    {
      "cell_type": "code",
      "source": [
        "tasks = []\n",
        "\n",
        "def add_task():\n",
        "    task = input('Enter a task: ')\n",
        "    tasks.append(task)\n",
        "\n",
        "def view_tasks():\n",
        "    for i, task in enumerate(tasks):\n",
        "        print(f'{i+1}. {task}')\n",
        "\n",
        "def delete_task():\n",
        "    task_num = int(input('Enter the task number to delete: '))\n",
        "    if 0 < task_num <= len(tasks):\n",
        "        del tasks[task_num-1]\n",
        "    else:\n",
        "        print('Invalid task number')\n",
        "\n",
        "while True:\n",
        "    print('''\n",
        "    1. Add Task\n",
        "    2. View Tasks\n",
        "    3. Delete Task\n",
        "    4. Quit\n",
        "    ''')\n",
        "    choice = input('Enter your choice: ')\n",
        "    if choice == '1':\n",
        "        add_task()\n",
        "    elif choice == '2':\n",
        "        view_tasks()\n",
        "    elif choice == '3':\n",
        "        delete_task()\n",
        "    elif choice == '4':\n",
        "        break\n",
        "    else:\n",
        "        print('Invalid choice')\n"
      ],
      "metadata": {
        "id": "QaPkKTQV-krW"
      },
      "execution_count": null,
      "outputs": []
    },
    {
      "cell_type": "markdown",
      "source": [
        "CALCULATOR\n"
      ],
      "metadata": {
        "id": "ldR9B42K8A7b"
      }
    },
    {
      "cell_type": "code",
      "execution_count": null,
      "metadata": {
        "id": "jPmHRwx87_Gv"
      },
      "outputs": [],
      "source": [
        "def calculator():\n",
        "    num1 = float(input('Enter the first number: '))\n",
        "    operation = input('Enter an operation (+, -, *, /): ')\n",
        "    num2 = float(input('Enter the second number: '))\n",
        "\n",
        "\n",
        "    if operation == '+':\n",
        "        result = num1 + num2\n",
        "    elif operation == '-':\n",
        "        result = num1 - num2\n",
        "    elif operation == '*':\n",
        "        result = num1 * num2\n",
        "    elif operation == '/':\n",
        "        result = num1 / num2\n",
        "    else:\n",
        "        print('Invalid operation')\n",
        "        return\n",
        "\n",
        "    print(f'The result of {num1} {operation} {num2} is {result}')\n",
        "\n",
        "calculator()\n",
        "\n"
      ]
    },
    {
      "cell_type": "markdown",
      "source": [
        "PASSWORD GENERATOR\n"
      ],
      "metadata": {
        "id": "2YKrrhvl97JH"
      }
    },
    {
      "cell_type": "code",
      "source": [
        "import string\n",
        "import random\n",
        "\n",
        "def generate_password(length):\n",
        "    characters = string.ascii_letters + string.digits + string.punctuation\n",
        "    password = ''.join(random.choice(characters) for i in range(length))\n",
        "    return password\n",
        "\n",
        "length = int(input('Enter the desired length of the password: '))\n",
        "password = generate_password(length)\n",
        "print('Your generated password is:', password)\n"
      ],
      "metadata": {
        "id": "KmMqYZl584xH"
      },
      "execution_count": null,
      "outputs": []
    },
    {
      "cell_type": "markdown",
      "source": [
        "Rock-Paper-Scissors Game"
      ],
      "metadata": {
        "id": "rKnJlqsh_AfV"
      }
    },
    {
      "cell_type": "code",
      "source": [
        "import random\n",
        "\n",
        "def play_rps():\n",
        "    user_score = 0\n",
        "    computer_score = 0\n",
        "    while True:\n",
        "        choices = ['rock', 'paper', 'scissors']\n",
        "        computer_choice = random.choice(choices)\n",
        "        user_choice = input('Choose rock, paper, or scissors (or type \"quit\" to exit): ').lower()\n",
        "        if user_choice == 'quit':\n",
        "            break\n",
        "        if user_choice not in choices:\n",
        "            print('Invalid choice')\n",
        "            continue\n",
        "        print(f'You chose {user_choice}, computer chose {computer_choice}')\n",
        "        if user_choice == computer_choice:\n",
        "            print('It\\'s a tie!')\n",
        "        elif (user_choice == 'rock' and computer_choice == 'scissors') or \\\n",
        "             (user_choice == 'paper' and computer_choice == 'rock') or \\\n",
        "             (user_choice == 'scissors' and computer_choice == 'paper'):\n",
        "            print('You win!')\n",
        "            user_score += 1\n",
        "        else:\n",
        "            print('Computer wins!')\n",
        "            computer_score += 1\n",
        "        print(f'Score: You {user_score} - {computer_score} Computer')\n",
        "\n",
        "play_rps()\n"
      ],
      "metadata": {
        "id": "U-ciMj1t_BmY"
      },
      "execution_count": null,
      "outputs": []
    },
    {
      "cell_type": "markdown",
      "source": [
        "CONTACT BOOK"
      ],
      "metadata": {
        "id": "uknJDGHfAXsl"
      }
    },
    {
      "cell_type": "code",
      "source": [
        "contacts = []\n",
        "\n",
        "def add_contact():\n",
        "    name = input('Enter the name: ')\n",
        "    phone = input('Enter the phone number: ')\n",
        "    email = input('Enter the email: ')\n",
        "    address = input('Enter the address: ')\n",
        "    contact = {'name': name, 'phone': phone, 'email': email, 'address': address}\n",
        "    contacts.append(contact)\n",
        "\n",
        "def view_contacts():\n",
        "    for contact in contacts:\n",
        "        print(f'Name: {contact[\"name\"]}\\nPhone: {contact[\"phone\"]}\\nEmail: {contact[\"email\"]}\\nAddress: {contact[\"address\"]}')\n",
        "\n",
        "def search_contact():\n",
        "    search_term = input('Enter a name or phone number to search: ')\n",
        "    for contact in contacts:\n",
        "        if search_term in contact['name'] or search_term in contact['phone']:\n",
        "            print(f'Name: {contact[\"name\"]}\\nPhone: {contact[\"phone\"]}\\nEmail: {contact[\"email\"]}\\nAddress: {contact[\"address\"]}')\n",
        "\n",
        "def update_contact():\n",
        "    search_term = input('Enter a name or phone number to update: ')\n",
        "    for contact in contacts:\n",
        "        if search_term in contact['name'] or search_term in contact['phone']:\n",
        "            name = input('Enter the new name (leave blank to keep the same): ')\n",
        "            phone = input('Enter the new phone number (leave blank to keep the same): ')\n",
        "            email = input('Enter the new email (leave blank to keep the same): ')\n",
        "            address = input('Enter the new address (leave blank to keep the same): ')\n",
        "            if name:\n",
        "                contact['name'] = name\n",
        "            if phone:\n",
        "                contact['phone'] = phone\n",
        "            if email:\n",
        "                contact['email'] = email\n",
        "            if address:\n",
        "                contact['address'] = address\n",
        "\n",
        "def delete_contact():\n",
        "    search_term = input('Enter a name or phone number to delete: ')\n",
        "    for i, contact in enumerate(contacts):\n",
        "        if search_term in contact['name'] or search_term in contact['phone']:\n",
        "            del contacts[i]\n",
        "            break\n",
        "\n",
        "while True:\n",
        "    print('''\n",
        "    1. Add Contact\n",
        "    2. View Contacts\n",
        "    3. Search Contact\n",
        "    4. Update Contact\n",
        "    5. Delete Contact\n",
        "    6. Quit\n",
        "    ''')\n",
        "    choice = input('Enter your choice: ')\n",
        "    if choice == '1':\n",
        "        add_contact()\n",
        "    elif choice == '2':\n",
        "        view_contacts()\n",
        "    elif choice == '3':\n",
        "        search_contact()\n",
        "    elif choice == '4':\n",
        "        update_contact()\n",
        "    elif choice == '5':\n",
        "        delete_contact()\n",
        "    elif choice == '6':\n",
        "        break\n",
        "    else:\n",
        "        print('Invalid choice')\n"
      ],
      "metadata": {
        "id": "nSCRDQ7vAaYu"
      },
      "execution_count": null,
      "outputs": []
    }
  ]
}